{
 "cells": [
  {
   "cell_type": "code",
   "execution_count": 1,
   "id": "6fefe24d-2ea7-449e-b53d-b51855853ab0",
   "metadata": {
    "tags": []
   },
   "outputs": [
    {
     "data": {
      "text/html": [
       "<div>\n",
       "<style scoped>\n",
       "    .dataframe tbody tr th:only-of-type {\n",
       "        vertical-align: middle;\n",
       "    }\n",
       "\n",
       "    .dataframe tbody tr th {\n",
       "        vertical-align: top;\n",
       "    }\n",
       "\n",
       "    .dataframe thead th {\n",
       "        text-align: right;\n",
       "    }\n",
       "</style>\n",
       "<table border=\"1\" class=\"dataframe\">\n",
       "  <thead>\n",
       "    <tr style=\"text-align: right;\">\n",
       "      <th></th>\n",
       "      <th>SettlementValue</th>\n",
       "      <th>AccidentType</th>\n",
       "      <th>Injury_Prognosis</th>\n",
       "      <th>SpecialHealthExpenses</th>\n",
       "      <th>SpecialReduction</th>\n",
       "      <th>SpecialOverage</th>\n",
       "      <th>GeneralRest</th>\n",
       "      <th>SpecialAdditionalInjury</th>\n",
       "      <th>SpecialEarningsLoss</th>\n",
       "      <th>SpecialUsageLoss</th>\n",
       "      <th>...</th>\n",
       "      <th>Accident Date</th>\n",
       "      <th>Claim Date</th>\n",
       "      <th>Vehicle Age</th>\n",
       "      <th>Driver Age</th>\n",
       "      <th>Number of Passengers</th>\n",
       "      <th>Accident Description</th>\n",
       "      <th>Injury Description</th>\n",
       "      <th>Police Report Filed</th>\n",
       "      <th>Witness Present</th>\n",
       "      <th>Gender</th>\n",
       "    </tr>\n",
       "  </thead>\n",
       "  <tbody>\n",
       "    <tr>\n",
       "      <th>0</th>\n",
       "      <td>520.0</td>\n",
       "      <td>Rear end</td>\n",
       "      <td>E. 5 months</td>\n",
       "      <td>0.0</td>\n",
       "      <td>0.0</td>\n",
       "      <td>0.0</td>\n",
       "      <td>0.0</td>\n",
       "      <td>0.0</td>\n",
       "      <td>0.0</td>\n",
       "      <td>0.0</td>\n",
       "      <td>...</td>\n",
       "      <td>2023-11-10 11:22:24.508901</td>\n",
       "      <td>2024-06-11 11:22:24.508901</td>\n",
       "      <td>13.0</td>\n",
       "      <td>33.0</td>\n",
       "      <td>4.0</td>\n",
       "      <td>Side collision at an intersection.</td>\n",
       "      <td>Whiplash and minor bruises.</td>\n",
       "      <td>Yes</td>\n",
       "      <td>Yes</td>\n",
       "      <td>Male</td>\n",
       "    </tr>\n",
       "    <tr>\n",
       "      <th>1</th>\n",
       "      <td>870.0</td>\n",
       "      <td>Rear end</td>\n",
       "      <td>B. 2 months</td>\n",
       "      <td>0.0</td>\n",
       "      <td>0.0</td>\n",
       "      <td>0.0</td>\n",
       "      <td>520.0</td>\n",
       "      <td>0.0</td>\n",
       "      <td>0.0</td>\n",
       "      <td>90.0</td>\n",
       "      <td>...</td>\n",
       "      <td>2023-06-25 00:55:01.140228</td>\n",
       "      <td>2024-01-09 00:55:01.140228</td>\n",
       "      <td>4.0</td>\n",
       "      <td>45.0</td>\n",
       "      <td>2.0</td>\n",
       "      <td>Side collision at an intersection.</td>\n",
       "      <td>Minor cuts and scrapes.</td>\n",
       "      <td>Yes</td>\n",
       "      <td>Yes</td>\n",
       "      <td>Female</td>\n",
       "    </tr>\n",
       "    <tr>\n",
       "      <th>2</th>\n",
       "      <td>2140.0</td>\n",
       "      <td>Other side pulled out of side road</td>\n",
       "      <td>G. 7 months</td>\n",
       "      <td>0.0</td>\n",
       "      <td>0.0</td>\n",
       "      <td>0.0</td>\n",
       "      <td>1400.0</td>\n",
       "      <td>0.0</td>\n",
       "      <td>0.0</td>\n",
       "      <td>0.0</td>\n",
       "      <td>...</td>\n",
       "      <td>2020-02-23 17:43:47.805561</td>\n",
       "      <td>2020-03-01 17:43:47.805561</td>\n",
       "      <td>9.0</td>\n",
       "      <td>45.0</td>\n",
       "      <td>4.0</td>\n",
       "      <td>Lost control on a snowy road.</td>\n",
       "      <td>Whiplash and minor bruises.</td>\n",
       "      <td>Yes</td>\n",
       "      <td>No</td>\n",
       "      <td>Female</td>\n",
       "    </tr>\n",
       "  </tbody>\n",
       "</table>\n",
       "<p>3 rows × 36 columns</p>\n",
       "</div>"
      ],
      "text/plain": [
       "   SettlementValue                        AccidentType Injury_Prognosis  \\\n",
       "0            520.0                            Rear end      E. 5 months   \n",
       "1            870.0                            Rear end      B. 2 months   \n",
       "2           2140.0  Other side pulled out of side road      G. 7 months   \n",
       "\n",
       "   SpecialHealthExpenses  SpecialReduction  SpecialOverage  GeneralRest  \\\n",
       "0                    0.0               0.0             0.0          0.0   \n",
       "1                    0.0               0.0             0.0        520.0   \n",
       "2                    0.0               0.0             0.0       1400.0   \n",
       "\n",
       "   SpecialAdditionalInjury  SpecialEarningsLoss  SpecialUsageLoss  ...  \\\n",
       "0                      0.0                  0.0               0.0  ...   \n",
       "1                      0.0                  0.0              90.0  ...   \n",
       "2                      0.0                  0.0               0.0  ...   \n",
       "\n",
       "                Accident Date                  Claim Date  Vehicle Age  \\\n",
       "0  2023-11-10 11:22:24.508901  2024-06-11 11:22:24.508901         13.0   \n",
       "1  2023-06-25 00:55:01.140228  2024-01-09 00:55:01.140228          4.0   \n",
       "2  2020-02-23 17:43:47.805561  2020-03-01 17:43:47.805561          9.0   \n",
       "\n",
       "   Driver Age  Number of Passengers                Accident Description  \\\n",
       "0        33.0                   4.0  Side collision at an intersection.   \n",
       "1        45.0                   2.0  Side collision at an intersection.   \n",
       "2        45.0                   4.0       Lost control on a snowy road.   \n",
       "\n",
       "            Injury Description  Police Report Filed  Witness Present  Gender  \n",
       "0  Whiplash and minor bruises.                  Yes              Yes    Male  \n",
       "1      Minor cuts and scrapes.                  Yes              Yes  Female  \n",
       "2  Whiplash and minor bruises.                  Yes               No  Female  \n",
       "\n",
       "[3 rows x 36 columns]"
      ]
     },
     "execution_count": 1,
     "metadata": {},
     "output_type": "execute_result"
    }
   ],
   "source": [
    "# Import necessary libraries\n",
    "import pandas as pd\n",
    "import os\n",
    "\n",
    "# # Load the dataset\n",
    "# Relative path to the CSV file\n",
    "file_path = \"../Dataset/Synthetic_Data_For_Students.csv\"\n",
    "\n",
    "# Read the dataset\n",
    "data = pd.read_csv(file_path)\n",
    "\n",
    "# Display the first few rows\n",
    "data.head(3)"
   ]
  },
  {
   "cell_type": "markdown",
   "id": "4acb1f53-49d8-4e50-8b9a-61d2aabe6fce",
   "metadata": {},
   "source": [
    "## Data Preprocessing"
   ]
  },
  {
   "cell_type": "code",
   "execution_count": 2,
   "id": "3656fd07-3283-42a9-80de-40bf95577b4b",
   "metadata": {
    "tags": []
   },
   "outputs": [
    {
     "name": "stdout",
     "output_type": "stream",
     "text": [
      "Data preprocessing complete.\n"
     ]
    }
   ],
   "source": [
    "# 1. Data Preprocessing\n",
    "\n",
    "# Drop datetime columns if they exist\n",
    "datetime_columns = [\"Accident Date\", \"Claim Date\"]\n",
    "data = data.drop(columns=[col for col in datetime_columns if col in data.columns])\n",
    "\n",
    "# Convert categorical columns to numerical\n",
    "categorical_columns = data.select_dtypes(include=['object']).columns\n",
    "data = pd.get_dummies(data, columns=categorical_columns, drop_first=True)\n",
    "\n",
    "# Fill missing values if any\n",
    "data = data.fillna(0)\n",
    "\n",
    "# Scale features\n",
    "from sklearn.preprocessing import StandardScaler\n",
    "\n",
    "scaler = StandardScaler()\n",
    "features = data.drop(columns=[\"SettlementValue\"])\n",
    "features_scaled = scaler.fit_transform(features)\n",
    "\n",
    "# Prepare final data\n",
    "X = pd.DataFrame(features_scaled, columns=features.columns)\n",
    "y = data[\"SettlementValue\"]\n",
    "\n",
    "print(\"Data preprocessing complete.\")\n",
    "\n"
   ]
  },
  {
   "cell_type": "markdown",
   "id": "f4e2c002-fad7-4236-86bf-cdde52c85c5a",
   "metadata": {},
   "source": [
    "## Train Test Split"
   ]
  },
  {
   "cell_type": "code",
   "execution_count": 3,
   "id": "f0344875-baf9-4d9f-aaf1-323ac9525143",
   "metadata": {
    "tags": []
   },
   "outputs": [
    {
     "name": "stdout",
     "output_type": "stream",
     "text": [
      "Training set shape: (4000, 79), Testing set shape: (1000, 79)\n"
     ]
    }
   ],
   "source": [
    "# 2. Train-Test Split\n",
    "\n",
    "from sklearn.model_selection import train_test_split\n",
    "\n",
    "X_train, X_test, y_train, y_test = train_test_split(\n",
    "    X, y, test_size=0.2, random_state=42\n",
    ")\n",
    "\n",
    "print(f\"Training set shape: {X_train.shape}, Testing set shape: {X_test.shape}\")\n",
    "\n"
   ]
  },
  {
   "cell_type": "markdown",
   "id": "f2c59a8b-2faa-4b79-a9ff-79903f6c1190",
   "metadata": {},
   "source": [
    "## Train Random Forest "
   ]
  },
  {
   "cell_type": "code",
   "execution_count": 4,
   "id": "41a6f4b8-adba-419c-a2d6-8d3b729e5641",
   "metadata": {},
   "outputs": [
    {
     "name": "stdout",
     "output_type": "stream",
     "text": [
      "Random Forest training complete.\n"
     ]
    }
   ],
   "source": [
    "# 3. Train Random Forest Regressor (Separate Model)\n",
    "\n",
    "from sklearn.ensemble import RandomForestRegressor\n",
    "\n",
    "# Define and train Random Forest\n",
    "rf_model = RandomForestRegressor(random_state=42, n_estimators=100)\n",
    "rf_model.fit(X_train, y_train)\n",
    "\n",
    "print(\"Random Forest training complete.\")\n"
   ]
  },
  {
   "cell_type": "markdown",
   "id": "d2ad7795-c60c-420f-aece-3022b67367ea",
   "metadata": {},
   "source": [
    "## Evaluate Random Forest Regressor "
   ]
  },
  {
   "cell_type": "code",
   "execution_count": 5,
   "id": "6c4baab0-abcc-4a86-b61b-0f519d08625d",
   "metadata": {
    "tags": []
   },
   "outputs": [
    {
     "name": "stdout",
     "output_type": "stream",
     "text": [
      "--- Random Forest Regressor ---\n",
      "Mean Absolute Error (MAE): £174.40\n",
      "Root Mean Squared Error (RMSE): £434.93\n",
      "R² Score: 0.7649\n",
      "Mean Absolute Percentage Error (MAPE): inf%\n"
     ]
    }
   ],
   "source": [
    "# 4. Evaluate Random Forest Regressor\n",
    "\n",
    "from sklearn.metrics import mean_squared_error, r2_score, mean_absolute_error\n",
    "\n",
    "# Predict\n",
    "y_pred_rf = rf_model.predict(X_test)\n",
    "\n",
    "# Calculate metrics\n",
    "mse_rf = mean_squared_error(y_test, y_pred_rf)\n",
    "r2_rf = r2_score(y_test, y_pred_rf)\n",
    "mae_rf = mean_absolute_error(y_test, y_pred_rf)\n",
    "mape_rf = (abs(y_test - y_pred_rf) / y_test).mean() * 100\n",
    "rmse_rf = mse_rf**0.5\n",
    "\n",
    "# Print evaluation\n",
    "print(\"--- Random Forest Regressor ---\")\n",
    "print(f\"Mean Absolute Error (MAE): £{mae_rf:,.2f}\")\n",
    "print(f\"Root Mean Squared Error (RMSE): £{rmse_rf:,.2f}\")\n",
    "print(f\"R² Score: {r2_rf:.4f}\")\n",
    "print(f\"Mean Absolute Percentage Error (MAPE): {mape_rf:.2f}%\")\n"
   ]
  },
  {
   "cell_type": "markdown",
   "id": "74d46a73-b24c-4b8f-849c-852e14e44918",
   "metadata": {},
   "source": [
    "##  Define Base Models for Stacking"
   ]
  },
  {
   "cell_type": "code",
   "execution_count": 6,
   "id": "11b74605-4404-49fd-882a-36e6690859d8",
   "metadata": {
    "tags": []
   },
   "outputs": [],
   "source": [
    "# 5. Define Base Models for Stacking\n",
    "\n",
    "from sklearn.svm import SVR\n",
    "from sklearn.linear_model import Lasso, Ridge\n",
    "from sklearn.ensemble import StackingRegressor\n",
    "\n",
    "# Base models\n",
    "base_models = [\n",
    "    ('rf', RandomForestRegressor(random_state=42, n_estimators=100)),\n",
    "    ('svr', SVR()),\n",
    "    ('lasso', Lasso(alpha=0.1))\n",
    "]\n",
    "\n",
    "# Final estimator\n",
    "final_estimator = Ridge(alpha=1.0)\n"
   ]
  },
  {
   "cell_type": "markdown",
   "id": "8df79ca7-dd7a-4c2f-b063-2851063d2681",
   "metadata": {},
   "source": [
    "## Build Stacking Regressor "
   ]
  },
  {
   "cell_type": "code",
   "execution_count": 7,
   "id": "6825c534-149e-42ca-a1d6-c7b510d984f4",
   "metadata": {
    "tags": []
   },
   "outputs": [
    {
     "name": "stdout",
     "output_type": "stream",
     "text": [
      "Stacking Regressor built successfully.\n"
     ]
    }
   ],
   "source": [
    "# 6. Build Stacking Regressor\n",
    "\n",
    "stacking_model = StackingRegressor(\n",
    "    estimators=base_models,\n",
    "    final_estimator=final_estimator,\n",
    "    cv=5\n",
    ")\n",
    "\n",
    "print(\"Stacking Regressor built successfully.\")\n"
   ]
  },
  {
   "cell_type": "markdown",
   "id": "99ab616c-f8a7-4149-9316-73bbe44e1f19",
   "metadata": {},
   "source": [
    "## Train Stacking Regressor"
   ]
  },
  {
   "cell_type": "code",
   "execution_count": 8,
   "id": "a1f2f302-6686-43d4-a854-ca568790c8bd",
   "metadata": {
    "tags": []
   },
   "outputs": [
    {
     "name": "stdout",
     "output_type": "stream",
     "text": [
      "Stacking Regressor training complete.\n"
     ]
    }
   ],
   "source": [
    "# 7. Train Stacking Regressor\n",
    "\n",
    "stacking_model.fit(X_train, y_train)\n",
    "\n",
    "print(\"Stacking Regressor training complete.\")\n"
   ]
  },
  {
   "cell_type": "markdown",
   "id": "45f0b1d7-db09-4f72-835f-84122e418db7",
   "metadata": {},
   "source": [
    "## Evaluate Stacking Regressor"
   ]
  },
  {
   "cell_type": "code",
   "execution_count": 9,
   "id": "85459694-ba5a-4262-85de-fc5be3558789",
   "metadata": {
    "tags": []
   },
   "outputs": [
    {
     "name": "stdout",
     "output_type": "stream",
     "text": [
      "--- Stacking Regressor ---\n",
      "Mean Absolute Error (MAE): £176.92\n",
      "Root Mean Squared Error (RMSE): £416.71\n",
      "R² Score: 0.7842\n",
      "Mean Absolute Percentage Error (MAPE): inf%\n"
     ]
    }
   ],
   "source": [
    "# 8. Evaluate Stacking Regressor\n",
    "\n",
    "# Predict\n",
    "y_pred_stack = stacking_model.predict(X_test)\n",
    "\n",
    "# Calculate metrics\n",
    "mse_stack = mean_squared_error(y_test, y_pred_stack)\n",
    "r2_stack = r2_score(y_test, y_pred_stack)\n",
    "mae_stack = mean_absolute_error(y_test, y_pred_stack)\n",
    "mape_stack = (abs(y_test - y_pred_stack) / y_test).mean() * 100\n",
    "rmse_stack = mse_stack**0.5\n",
    "\n",
    "# Print evaluation\n",
    "print(\"--- Stacking Regressor ---\")\n",
    "print(f\"Mean Absolute Error (MAE): £{mae_stack:,.2f}\")\n",
    "print(f\"Root Mean Squared Error (RMSE): £{rmse_stack:,.2f}\")\n",
    "print(f\"R² Score: {r2_stack:.4f}\")\n",
    "print(f\"Mean Absolute Percentage Error (MAPE): {mape_stack:.2f}%\")\n"
   ]
  },
  {
   "cell_type": "markdown",
   "id": "16d4b207-ca35-4c0a-97d9-dfb1c96d5ac5",
   "metadata": {},
   "source": [
    "## Save Models and Results "
   ]
  },
  {
   "cell_type": "code",
   "execution_count": 10,
   "id": "6b6c3db1-c4c6-449e-a488-c13d353d722f",
   "metadata": {
    "tags": []
   },
   "outputs": [
    {
     "name": "stdout",
     "output_type": "stream",
     "text": [
      "Models and results saved successfully.\n"
     ]
    }
   ],
   "source": [
    "# 9. Save Models and Results\n",
    "\n",
    "import os\n",
    "import pickle\n",
    "import pandas as pd\n",
    "\n",
    "os.makedirs('New_Models', exist_ok=True)\n",
    "\n",
    "# Save Random Forest model\n",
    "with open('New_Models/random_forest_model.pkl', 'wb') as f:\n",
    "    pickle.dump(rf_model, f)\n",
    "\n",
    "# Save Stacking model\n",
    "with open('New_Models/stacking_model.pkl', 'wb') as f:\n",
    "    pickle.dump(stacking_model, f)\n",
    "\n",
    "# Save predictions\n",
    "results = pd.DataFrame({\n",
    "    'Actual': y_test,\n",
    "    'RandomForest_Predicted': y_pred_rf,\n",
    "    'Stacking_Predicted': y_pred_stack\n",
    "})\n",
    "results.to_csv('New_Models/model_predictions.csv', index=False)\n",
    "\n",
    "# Save evaluation metrics\n",
    "metrics = {\n",
    "    'Random Forest': {\n",
    "        'MAE (£)': round(mae_rf, 2),\n",
    "        'RMSE (£)': round(rmse_rf, 2),\n",
    "        'R² Score': round(r2_rf, 4),\n",
    "        'MAPE (%)': round(mape_rf, 2)\n",
    "    },\n",
    "    'Stacking': {\n",
    "        'MAE (£)': round(mae_stack, 2),\n",
    "        'RMSE (£)': round(rmse_stack, 2),\n",
    "        'R² Score': round(r2_stack, 4),\n",
    "        'MAPE (%)': round(mape_stack, 2)\n",
    "    }\n",
    "}\n",
    "with open('New_Models/evaluation_metrics.pkl', 'wb') as f:\n",
    "    pickle.dump(metrics, f)\n",
    "\n",
    "print(\"Models and results saved successfully.\")\n"
   ]
  },
  {
   "cell_type": "code",
   "execution_count": null,
   "id": "42c50b16-35f4-42c1-bce1-d20bb857b759",
   "metadata": {},
   "outputs": [],
   "source": []
  }
 ],
 "metadata": {
  "kernelspec": {
   "display_name": "adv_ai",
   "language": "python",
   "name": "adv_ai"
  },
  "language_info": {
   "codemirror_mode": {
    "name": "ipython",
    "version": 3
   },
   "file_extension": ".py",
   "mimetype": "text/x-python",
   "name": "python",
   "nbconvert_exporter": "python",
   "pygments_lexer": "ipython3",
   "version": "3.11.9"
  }
 },
 "nbformat": 4,
 "nbformat_minor": 5
}
